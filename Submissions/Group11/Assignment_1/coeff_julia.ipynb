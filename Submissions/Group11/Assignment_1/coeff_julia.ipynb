{
 "cells": [
  {
   "cell_type": "markdown",
   "metadata": {},
   "source": [
    "## The Julia code below calculated the coefficient(k,r) for different values of r"
   ]
  },
  {
   "cell_type": "code",
   "execution_count": 1,
   "metadata": {},
   "outputs": [
    {
     "name": "stderr",
     "output_type": "stream",
     "text": [
      "\u001b[32m\u001b[1m   Updating\u001b[22m\u001b[39m registry at `~/.julia/registries/General`\n"
     ]
    },
    {
     "name": "stdout",
     "output_type": "stream",
     "text": [
      "\u001b[?25l\u001b[2K"
     ]
    },
    {
     "name": "stderr",
     "output_type": "stream",
     "text": [
      "\u001b[32m\u001b[1m   Updating\u001b[22m\u001b[39m git-repo `https://github.com/JuliaRegistries/General.git`\n"
     ]
    },
    {
     "name": "stdout",
     "output_type": "stream",
     "text": [
      "\u001b[?25h"
     ]
    },
    {
     "name": "stderr",
     "output_type": "stream",
     "text": [
      "\u001b[32m\u001b[1m  Resolving\u001b[22m\u001b[39m package versions...\n",
      "\u001b[32m\u001b[1m   Updating\u001b[22m\u001b[39m `~/.julia/environments/v1.4/Project.toml`\n",
      "\u001b[90m [no changes]\u001b[39m\n",
      "\u001b[32m\u001b[1m   Updating\u001b[22m\u001b[39m `~/.julia/environments/v1.4/Manifest.toml`\n",
      "\u001b[90m [no changes]\u001b[39m\n"
     ]
    },
    {
     "name": "stdout",
     "output_type": "stream",
     "text": [
      "Enter the value of r stdin> 2\n",
      "c (r = 2, k = 0) == > -2.500000\n",
      "c (r = 2, k = 1) == > 1.333333\n",
      "c (r = 2, k = 2) == > -0.083333\n"
     ]
    }
   ],
   "source": [
    "using Pkg\n",
    "Pkg.add(\"Printf\")\n",
    "using Printf\n",
    "\n",
    "print(\"Enter the value of r \")\n",
    "n = parse(Int,readline())\n",
    "\n",
    "matrix = zeros((n,n))\n",
    "\n",
    "for i in 1:n\n",
    "    for j in 1:n\n",
    "        matrix[i,j] = ((i)^(2*(j)))/(factorial(2*(j)))\n",
    "    end\n",
    "end\n",
    "\n",
    "inverted_matrix = inv(matrix)\n",
    "right_matrix = zeros(Float64, (n,2*n+1))\n",
    "for i in 1:n\n",
    "        right_matrix[i,n+1] = -2\n",
    "        right_matrix[i, (n+i+1)] = 1\n",
    "        right_matrix[i, (n-i+1)] = 1\n",
    "end\n",
    "final_matrix = *(inverted_matrix,right_matrix)/2\n",
    "\n",
    "for k in 0:n\n",
    "    @printf(\"c (r = %d, k = %d) == > %f\\n\",n,k,final_matrix[1,n+k+1])\n",
    "end"
   ]
  },
  {
   "cell_type": "code",
   "execution_count": null,
   "metadata": {},
   "outputs": [],
   "source": []
  }
 ],
 "metadata": {
  "kernelspec": {
   "display_name": "Julia 1.4.1",
   "language": "julia",
   "name": "julia-1.4"
  },
  "language_info": {
   "file_extension": ".jl",
   "mimetype": "application/julia",
   "name": "julia",
   "version": "1.4.1"
  }
 },
 "nbformat": 4,
 "nbformat_minor": 4
}
